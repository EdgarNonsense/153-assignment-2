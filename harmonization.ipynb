{
 "cells": [
  {
   "cell_type": "markdown",
   "id": "0b23a036",
   "metadata": {},
   "source": [
    "# CSE 153 Assignment 2"
   ]
  },
  {
   "cell_type": "markdown",
   "id": "5ec57deb",
   "metadata": {},
   "source": [
    "## Task 2: Harmonization"
   ]
  },
  {
   "cell_type": "markdown",
   "id": "4095543f",
   "metadata": {},
   "source": [
    "For this task, we will create a model that can generate harmonies and a backing track when provided a melody. (PROVIDE MORE DETAILS)"
   ]
  },
  {
   "cell_type": "code",
   "execution_count": 2,
   "id": "1ca15de0",
   "metadata": {},
   "outputs": [
    {
     "ename": "HySyntaxError",
     "evalue": "parse error for pattern macro 'import': got unexpected token: hy.models.List([\n  hy.models.Expression([\n    hy.models.Symbol('.'),\n    hy.models.Symbol('collections'),\n    hy.models.Symbol('abc')]),\n  hy.models.List([\n    hy.models.Symbol('Iterable')])]), expected: end of macro call (pipeline.hy, line 1)",
     "output_type": "error",
     "traceback": [
      "Traceback \u001b[0;36m(most recent call last)\u001b[0m:\n",
      "\u001b[0m  File \u001b[1;32m~/anaconda3/lib/python3.12/site-packages/hy/macros.py:65\u001b[0m in \u001b[1;35mimport\u001b[0m\n    parse_tree = pattern.parse(args)\u001b[0m\n",
      "\u001b[0m  File \u001b[1;32m~/anaconda3/lib/python3.12/site-packages/funcparserlib/parser.py:221\u001b[0m in \u001b[1;35mparse\u001b[0m\n    (tree, _) = self.run(tokens, State(0, 0, None))\u001b[0m\n",
      "\u001b[0m  File \u001b[1;32m~/anaconda3/lib/python3.12/site-packages/funcparserlib/parser.py:383\u001b[0m in \u001b[1;35m_shift\u001b[0m\n    (v, s2) = self.run(tokens, s)\u001b[0m\n",
      "\u001b[0m  File \u001b[1;32m~/anaconda3/lib/python3.12/site-packages/funcparserlib/parser.py:306\u001b[0m in \u001b[1;35m_add\u001b[0m\n    (v2, s3) = other.run(tokens, s2)\u001b[0m\n",
      "\u001b[0;36m  File \u001b[0;32m~/anaconda3/lib/python3.12/site-packages/funcparserlib/parser.py:534\u001b[0;36m in \u001b[0;35mfinished\u001b[0;36m\n\u001b[0;31m    raise NoParseError(\"got unexpected token\", s2)\u001b[0;36m\n",
      "\u001b[0;31mNoParseError\u001b[0m\u001b[0;31m:\u001b[0m got unexpected token: hy.models.List([\n  hy.models.Expression([\n    hy.models.Symbol('.'),\n    hy.models.Symbol('collections'),\n    hy.models.Symbol('abc')]),\n  hy.models.List([\n    hy.models.Symbol('Iterable')])]), expected: end of input\n",
      "\nDuring handling of the above exception, another exception occurred:\n",
      "Traceback \u001b[0;36m(most recent call last)\u001b[0m:\n",
      "\u001b[0m  File \u001b[1;32m~/anaconda3/lib/python3.12/site-packages/IPython/core/interactiveshell.py:3577\u001b[0m in \u001b[1;35mrun_code\u001b[0m\n    exec(code_obj, self.user_global_ns, self.user_ns)\u001b[0m\n",
      "\u001b[0m  Cell \u001b[1;32mIn[2], line 6\u001b[0m\n    from processor import MidiEventProcessor\u001b[0m\n",
      "\u001b[0m  File \u001b[1;32m~/anaconda3/lib/python3.12/site-packages/processor/__init__.py:4\u001b[0m\n    from .pipeline import *\u001b[0m\n",
      "\u001b[0m  File \u001b[1;32m<frozen importlib._bootstrap>:1360\u001b[0m in \u001b[1;35m_find_and_load\u001b[0m\n",
      "\u001b[0m  File \u001b[1;32m<frozen importlib._bootstrap>:1331\u001b[0m in \u001b[1;35m_find_and_load_unlocked\u001b[0m\n",
      "\u001b[0m  File \u001b[1;32m<frozen importlib._bootstrap>:935\u001b[0m in \u001b[1;35m_load_unlocked\u001b[0m\n",
      "\u001b[0m  File \u001b[1;32m<frozen importlib._bootstrap_external>:991\u001b[0m in \u001b[1;35mexec_module\u001b[0m\n",
      "\u001b[0m  File \u001b[1;32m<frozen importlib._bootstrap_external>:1129\u001b[0m in \u001b[1;35mget_code\u001b[0m\n",
      "\u001b[0m  File \u001b[1;32m~/anaconda3/lib/python3.12/site-packages/hy/importer.py:123\u001b[0m in \u001b[1;35m_hy_source_to_code\u001b[0m\n    data = hy_compile(hy_tree, module)\u001b[0m\n",
      "\u001b[0m  File \u001b[1;32m~/anaconda3/lib/python3.12/site-packages/hy/compiler.py:882\u001b[0m in \u001b[1;35mhy_compile\u001b[0m\n    result = compiler.compile(tree)\u001b[0m\n",
      "\u001b[0m  File \u001b[1;32m~/anaconda3/lib/python3.12/site-packages/hy/compiler.py:420\u001b[0m in \u001b[1;35mcompile\u001b[0m\n    raise e\u001b[0m\n",
      "\u001b[0m  File \u001b[1;32m~/anaconda3/lib/python3.12/site-packages/hy/compiler.py:411\u001b[0m in \u001b[1;35mcompile\u001b[0m\n    ret = self.compile_atom(tree)\u001b[0m\n",
      "\u001b[0m  File \u001b[1;32m~/anaconda3/lib/python3.12/site-packages/hy/compiler.py:405\u001b[0m in \u001b[1;35mcompile_atom\u001b[0m\n    return Result() + _model_compilers[type(atom)](self, atom)\u001b[0m\n",
      "\u001b[0m  File \u001b[1;32m~/anaconda3/lib/python3.12/site-packages/hy/compiler.py:494\u001b[0m in \u001b[1;35m_compile_branch\u001b[0m\n    last = self.compile(node)\u001b[0m\n",
      "\u001b[0m  File \u001b[1;32m~/anaconda3/lib/python3.12/site-packages/hy/compiler.py:420\u001b[0m in \u001b[1;35mcompile\u001b[0m\n    raise e\u001b[0m\n",
      "\u001b[0m  File \u001b[1;32m~/anaconda3/lib/python3.12/site-packages/hy/compiler.py:411\u001b[0m in \u001b[1;35mcompile\u001b[0m\n    ret = self.compile_atom(tree)\u001b[0m\n",
      "\u001b[0m  File \u001b[1;32m~/anaconda3/lib/python3.12/site-packages/hy/compiler.py:405\u001b[0m in \u001b[1;35mcompile_atom\u001b[0m\n    return Result() + _model_compilers[type(atom)](self, atom)\u001b[0m\n",
      "\u001b[0m  File \u001b[1;32m~/anaconda3/lib/python3.12/site-packages/hy/compiler.py:566\u001b[0m in \u001b[1;35mcompile_expression\u001b[0m\n    expr = macroexpand(expr, self.module, self)\u001b[0m\n",
      "\u001b[0m  File \u001b[1;32m~/anaconda3/lib/python3.12/site-packages/hy/macros.py:401\u001b[0m in \u001b[1;35mmacroexpand\u001b[0m\n    obj = m(\u001b[0m\n",
      "\u001b[0;36m  File \u001b[0;32m~/anaconda3/lib/python3.12/site-packages/hy/macros.py:67\u001b[0;36m in \u001b[0;35mimport\u001b[0;36m\n\u001b[0;31m    raise _hy_compiler._syntax_error(\u001b[0;36m\n",
      "\u001b[0;36m  File \u001b[0;32m~/anaconda3/lib/python3.12/site-packages/processor/pipeline.hy:1\u001b[0;36m\u001b[0m\n\u001b[0;31m    (import [collections.abc [Iterable]])\u001b[0m\n\u001b[0m            ^\u001b[0m\n\u001b[0;31mHySyntaxError\u001b[0m\u001b[0;31m:\u001b[0m parse error for pattern macro 'import': got unexpected token: hy.models.List([\n  hy.models.Expression([\n    hy.models.Symbol('.'),\n    hy.models.Symbol('collections'),\n    hy.models.Symbol('abc')]),\n  hy.models.List([\n    hy.models.Symbol('Iterable')])]), expected: end of macro call\n"
     ]
    }
   ],
   "source": [
    "# IMPORTS\n",
    "import pickle\n",
    "import os\n",
    "import sys\n",
    "import utils\n",
    "from processor import MidiEventProcessor\n",
    "import pretty_midi as pyd\n",
    "import numpy as np"
   ]
  },
  {
   "cell_type": "markdown",
   "id": "2a4bc34c",
   "metadata": {},
   "source": [
    "We will use the [POP909 dataset](https://arxiv.org/abs/2008.07142), which contains 909 piano arrangements of popular songs. Each song is broken into 3 midi files (MELODY, BRIDGE (for the harmonies), and PIANO (for the accompaniment)). The dataset comes with information about beat, chords, and key changes. We will be using their provided data preprocessing scripts to access these midi files."
   ]
  },
  {
   "cell_type": "code",
   "execution_count": null,
   "id": "3daa0497",
   "metadata": {},
   "outputs": [],
   "source": [
    "# Pre-processing script by Ziyu Wang, Ke Chen, Junyan Jiang, Yiyi Zhang, Maoran Xu, \n",
    "# Shuqi Dai, Guxian Bin, and Gus Xia (POP909 team)\n",
    "\n",
    "total = 0\n",
    "def preprocess_midi(path):\n",
    "    global total\n",
    "    data = pyd.PrettyMIDI(path)\n",
    "    main_notes = []\n",
    "    acc_notes = []\n",
    "    for ins in data.instruments:\n",
    "        acc_notes.extend(ins.notes)\n",
    "    for i in range(len(main_notes)):\n",
    "        main_notes[i].start = round(main_notes[i].start,2)\n",
    "        main_notes[i].end = round(main_notes[i].end,2)\n",
    "    for i in range(len(acc_notes)):\n",
    "        acc_notes[i].start = round(acc_notes[i].start,2)\n",
    "        acc_notes[i].end = round(acc_notes[i].end,2)\n",
    "    main_notes.sort(key = lambda x:x.start)\n",
    "    acc_notes.sort(key = lambda x:x.start)\n",
    "    mpr = MidiEventProcessor()\n",
    "    repr_seq = mpr.encode([main_notes, acc_notes])\n",
    "    total += len(repr_seq)\n",
    "    return repr_seq\n",
    "\n",
    "def preprocess_pop909(midi_root, save_dir):\n",
    "    save_py = []\n",
    "    midi_paths = [d for d in os.listdir(midi_root)]\n",
    "    i = 0\n",
    "    out_fmt = '{}-{}.data'\n",
    "    for path in midi_paths:\n",
    "        print(' ', end='[{}]'.format(path), flush=True)\n",
    "        filename = midi_root + path\n",
    "        try:\n",
    "            data = preprocess_midi(filename)\n",
    "        except KeyboardInterrupt:\n",
    "            print(' Abort')\n",
    "            return\n",
    "        except EOFError:\n",
    "            print('EOF Error')\n",
    "            return\n",
    "        save_py.append(data)\n",
    "    save_py = np.array(save_py)\n",
    "    print(save_py.size)\n",
    "    np.save(\"pop909-event-token.npy\", save_py)\n",
    "            \n",
    "    \n",
    "# replace the folder with your POP909 data folder\n",
    "preprocess_pop909(\"../pop909\",\"midi_data/\")"
   ]
  },
  {
   "cell_type": "markdown",
   "id": "652da2f2",
   "metadata": {},
   "source": [
    "@inproceedings{pop909-ismir2020,\n",
    "    author = {Ziyu Wang* and Ke Chen* and Junyan Jiang and Yiyi Zhang and Maoran Xu and Shuqi Dai and Guxian Bin and Gus Xia},\n",
    "    title = {POP909: A Pop-song Dataset for Music Arrangement Generation},\n",
    "    booktitle = {Proceedings of 21st International Conference on Music Information Retrieval, {ISMIR}},\n",
    "    year = {2020}\n",
    "}"
   ]
  }
 ],
 "metadata": {
  "kernelspec": {
   "display_name": "base",
   "language": "python",
   "name": "python3"
  },
  "language_info": {
   "codemirror_mode": {
    "name": "ipython",
    "version": 3
   },
   "file_extension": ".py",
   "mimetype": "text/x-python",
   "name": "python",
   "nbconvert_exporter": "python",
   "pygments_lexer": "ipython3",
   "version": "3.12.7"
  }
 },
 "nbformat": 4,
 "nbformat_minor": 5
}
