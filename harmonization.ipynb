{
 "cells": [
  {
   "cell_type": "markdown",
   "id": "0b23a036",
   "metadata": {},
   "source": [
    "# CSE 153 Assignment 2"
   ]
  },
  {
   "cell_type": "markdown",
   "id": "5ec57deb",
   "metadata": {},
   "source": [
    "## Task 2: Harmonization"
   ]
  },
  {
   "cell_type": "markdown",
   "id": "4095543f",
   "metadata": {},
   "source": [
    "For this task, we will create a model that can generate harmonies and a backing track when provided a melody. (PROVIDE MORE DETAILS)"
   ]
  },
  {
   "cell_type": "code",
   "execution_count": 1,
   "id": "1ca15de0",
   "metadata": {},
   "outputs": [],
   "source": [
    "# IMPORTS\n",
    "import pickle\n",
    "import os\n",
    "import sys\n",
    "from processor import MidiEventProcessor\n",
    "import pretty_midi as pyd\n",
    "import numpy as np"
   ]
  },
  {
   "cell_type": "markdown",
   "id": "2a4bc34c",
   "metadata": {},
   "source": [
    "We will use the [POP909 dataset](https://arxiv.org/abs/2008.07142), which contains 909 piano arrangements of popular songs. Each song is broken into 3 midi files (MELODY, BRIDGE (for the harmonies), and PIANO (for the accompaniment)). The dataset comes with information about beat, chords, and key changes. We will be using their provided data preprocessing scripts to access these midi files."
   ]
  },
  {
   "cell_type": "code",
   "execution_count": 8,
   "id": "3daa0497",
   "metadata": {},
   "outputs": [
    {
     "name": "stdout",
     "output_type": "stream",
     "text": [
      " [038/038.mid]"
     ]
    },
    {
     "ename": "AttributeError",
     "evalue": "'list' object has no attribute 'start'",
     "output_type": "error",
     "traceback": [
      "\u001b[31m---------------------------------------------------------------------------\u001b[39m",
      "\u001b[31mAttributeError\u001b[39m                            Traceback (most recent call last)",
      "\u001b[36mCell\u001b[39m\u001b[36m \u001b[39m\u001b[32mIn[8]\u001b[39m\u001b[32m, line 51\u001b[39m\n\u001b[32m     47\u001b[39m     np.save(\u001b[33m\"\u001b[39m\u001b[33mpop909-event-token.npy\u001b[39m\u001b[33m\"\u001b[39m, save_py)\n\u001b[32m     50\u001b[39m \u001b[38;5;66;03m# replace the folder with your POP909 data folder\u001b[39;00m\n\u001b[32m---> \u001b[39m\u001b[32m51\u001b[39m \u001b[43mpreprocess_pop909\u001b[49m\u001b[43m(\u001b[49m\u001b[33;43m\"\u001b[39;49m\u001b[33;43mPOP909/\u001b[39;49m\u001b[33;43m\"\u001b[39;49m\u001b[43m,\u001b[49m\u001b[33;43m\"\u001b[39;49m\u001b[33;43mmidi_data/\u001b[39;49m\u001b[33;43m\"\u001b[39;49m\u001b[43m)\u001b[49m\n",
      "\u001b[36mCell\u001b[39m\u001b[36m \u001b[39m\u001b[32mIn[8]\u001b[39m\u001b[32m, line 37\u001b[39m, in \u001b[36mpreprocess_pop909\u001b[39m\u001b[34m(midi_root, save_dir)\u001b[39m\n\u001b[32m     35\u001b[39m filename = midi_root + path\n\u001b[32m     36\u001b[39m \u001b[38;5;28;01mtry\u001b[39;00m:\n\u001b[32m---> \u001b[39m\u001b[32m37\u001b[39m     data = \u001b[43mpreprocess_midi\u001b[49m\u001b[43m(\u001b[49m\u001b[43mfilename\u001b[49m\u001b[43m)\u001b[49m\n\u001b[32m     38\u001b[39m \u001b[38;5;28;01mexcept\u001b[39;00m \u001b[38;5;167;01mKeyboardInterrupt\u001b[39;00m:\n\u001b[32m     39\u001b[39m     \u001b[38;5;28mprint\u001b[39m(\u001b[33m'\u001b[39m\u001b[33m Abort\u001b[39m\u001b[33m'\u001b[39m)\n",
      "\u001b[36mCell\u001b[39m\u001b[36m \u001b[39m\u001b[32mIn[8]\u001b[39m\u001b[32m, line 24\u001b[39m, in \u001b[36mpreprocess_midi\u001b[39m\u001b[34m(path)\u001b[39m\n\u001b[32m     22\u001b[39m acc_notes.sort(key = \u001b[38;5;28;01mlambda\u001b[39;00m x:x.start)\n\u001b[32m     23\u001b[39m mpr = MidiEventProcessor()\n\u001b[32m---> \u001b[39m\u001b[32m24\u001b[39m repr_seq = \u001b[43mmpr\u001b[49m\u001b[43m.\u001b[49m\u001b[43mencode\u001b[49m\u001b[43m(\u001b[49m\u001b[43m[\u001b[49m\u001b[43mmain_notes\u001b[49m\u001b[43m,\u001b[49m\u001b[43m \u001b[49m\u001b[43macc_notes\u001b[49m\u001b[43m]\u001b[49m\u001b[43m)\u001b[49m\n\u001b[32m     25\u001b[39m total += \u001b[38;5;28mlen\u001b[39m(repr_seq)\n\u001b[32m     26\u001b[39m \u001b[38;5;28;01mreturn\u001b[39;00m repr_seq\n",
      "\u001b[36mFile \u001b[39m\u001b[32m~/cse153ass2/processor.py:197\u001b[39m, in \u001b[36mMidiEventProcessor.encode\u001b[39m\u001b[34m(self, note_seq)\u001b[39m\n\u001b[32m    193\u001b[39m meta_events = []\n\u001b[32m    194\u001b[39m \u001b[38;5;28;01mfor\u001b[39;00m note \u001b[38;5;129;01min\u001b[39;00m notes:\n\u001b[32m    195\u001b[39m     token_on = {\n\u001b[32m    196\u001b[39m         \u001b[33m\"\u001b[39m\u001b[33mname\u001b[39m\u001b[33m\"\u001b[39m: \u001b[33m\"\u001b[39m\u001b[33mnote_on\u001b[39m\u001b[33m\"\u001b[39m,\n\u001b[32m--> \u001b[39m\u001b[32m197\u001b[39m         \u001b[33m\"\u001b[39m\u001b[33mtime\u001b[39m\u001b[33m\"\u001b[39m: \u001b[43mnote\u001b[49m\u001b[43m.\u001b[49m\u001b[43mstart\u001b[49m,\n\u001b[32m    198\u001b[39m         \u001b[33m\"\u001b[39m\u001b[33mpitch\u001b[39m\u001b[33m\"\u001b[39m: note.pitch,\n\u001b[32m    199\u001b[39m         \u001b[33m\"\u001b[39m\u001b[33mvel\u001b[39m\u001b[33m\"\u001b[39m: note.velocity,\n\u001b[32m    200\u001b[39m     }\n\u001b[32m    201\u001b[39m     token_off = {\n\u001b[32m    202\u001b[39m         \u001b[33m\"\u001b[39m\u001b[33mname\u001b[39m\u001b[33m\"\u001b[39m: \u001b[33m\"\u001b[39m\u001b[33mnote_off\u001b[39m\u001b[33m\"\u001b[39m,\n\u001b[32m    203\u001b[39m         \u001b[33m\"\u001b[39m\u001b[33mtime\u001b[39m\u001b[33m\"\u001b[39m: note.end,\n\u001b[32m    204\u001b[39m         \u001b[33m\"\u001b[39m\u001b[33mpitch\u001b[39m\u001b[33m\"\u001b[39m: note.pitch,\n\u001b[32m    205\u001b[39m         \u001b[33m\"\u001b[39m\u001b[33mvel\u001b[39m\u001b[33m\"\u001b[39m: \u001b[38;5;28;01mNone\u001b[39;00m,\n\u001b[32m    206\u001b[39m     }\n\u001b[32m    207\u001b[39m     meta_events.extend([token_on, token_off])\n",
      "\u001b[31mAttributeError\u001b[39m: 'list' object has no attribute 'start'"
     ]
    }
   ],
   "source": [
    "# Pre-processing script by Ziyu Wang, Ke Chen, Junyan Jiang, Yiyi Zhang, Maoran Xu, \n",
    "# Shuqi Dai, Guxian Bin, and Gus Xia (POP909 team)\n",
    "\n",
    "total = 0\n",
    "def preprocess_midi(path):\n",
    "    global total\n",
    "    data = pyd.PrettyMIDI(path)\n",
    "    main_notes = []\n",
    "    acc_notes = []\n",
    "    for ins in data.instruments:\n",
    "        acc_notes.extend(ins.notes)\n",
    "    \n",
    "    for i in range(len(main_notes)):\n",
    "        main_notes[i].start = round(main_notes[i].start,2)\n",
    "        main_notes[i].end = round(main_notes[i].end,2)\n",
    "        \n",
    "    for i in range(len(acc_notes)):\n",
    "        acc_notes[i].start = round(acc_notes[i].start,2)\n",
    "        acc_notes[i].end = round(acc_notes[i].end,2)\n",
    "    \n",
    "    main_notes.sort(key = lambda x:x.start)\n",
    "    acc_notes.sort(key = lambda x:x.start)\n",
    "    mpr = MidiEventProcessor()\n",
    "    repr_seq = mpr.encode([main_notes, acc_notes])\n",
    "    total += len(repr_seq)\n",
    "    return repr_seq\n",
    "\n",
    "def preprocess_pop909(midi_root, save_dir):\n",
    "    save_py = []\n",
    "    midi_paths = [f\"{d}/{d}.mid\" for d in os.listdir(midi_root)]\n",
    "    i = 0\n",
    "    \n",
    "    for path in midi_paths:\n",
    "        print(' ', end='[{}]'.format(path), flush=True)\n",
    "        filename = midi_root + path\n",
    "        try:\n",
    "            data = preprocess_midi(filename)\n",
    "        except KeyboardInterrupt:\n",
    "            print(' Abort')\n",
    "            return\n",
    "        except EOFError:\n",
    "            print('EOF Error')\n",
    "            return\n",
    "        save_py.append(data)\n",
    "    save_py = np.array(save_py)\n",
    "    print(save_py.size)\n",
    "    np.save(\"pop909-event-token.npy\", save_py)\n",
    "            \n",
    "    \n",
    "# replace the folder with your POP909 data folder\n",
    "preprocess_pop909(\"POP909/\",\"midi_data/\")"
   ]
  },
  {
   "cell_type": "markdown",
   "id": "652da2f2",
   "metadata": {},
   "source": [
    "@inproceedings{pop909-ismir2020,\n",
    "    author = {Ziyu Wang* and Ke Chen* and Junyan Jiang and Yiyi Zhang and Maoran Xu and Shuqi Dai and Guxian Bin and Gus Xia},\n",
    "    title = {POP909: A Pop-song Dataset for Music Arrangement Generation},\n",
    "    booktitle = {Proceedings of 21st International Conference on Music Information Retrieval, {ISMIR}},\n",
    "    year = {2020}\n",
    "}"
   ]
  }
 ],
 "metadata": {
  "kernelspec": {
   "display_name": "mykernel",
   "language": "python",
   "name": "mykernel"
  },
  "language_info": {
   "codemirror_mode": {
    "name": "ipython",
    "version": 3
   },
   "file_extension": ".py",
   "mimetype": "text/x-python",
   "name": "python",
   "nbconvert_exporter": "python",
   "pygments_lexer": "ipython3",
   "version": "3.11.9"
  }
 },
 "nbformat": 4,
 "nbformat_minor": 5
}
